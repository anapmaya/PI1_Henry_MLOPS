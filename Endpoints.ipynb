{
 "cells": [
  {
   "cell_type": "code",
   "execution_count": 33,
   "metadata": {},
   "outputs": [],
   "source": [
    "import pandas as pd\n",
    "import gc #veo necesario importar este módulo debido a las limitaciones de espacio al usar render\n",
    "import warnings\n",
    "warnings.filterwarnings('ignore')\n",
    "\n",
    "df_games = pd.read_parquet('steam_games.parquet')\n",
    "df_reviews = pd.read_parquet('user_reviews.parquet')\n",
    "df_items = pd.read_parquet('user_items.parquet')"
   ]
  },
  {
   "cell_type": "markdown",
   "metadata": {},
   "source": [
    "### PlayTimeGenre()"
   ]
  },
  {
   "cell_type": "markdown",
   "metadata": {},
   "source": [
    "Debe devolver el año con mas horas jugadas para dicho género.\n",
    "\n",
    "Ejemplo de retorno: {\"Año de lanzamiento con más horas jugadas para Género X\" : 2013}"
   ]
  },
  {
   "cell_type": "code",
   "execution_count": 102,
   "metadata": {},
   "outputs": [],
   "source": [
    "def PlayTimeGenre( genero : str ):\n",
    "    if genero not in df_games.columns:\n",
    "        # Se imprime mensaje de error:   \n",
    "        return f\"ERROR: El género {genero} no existe en la base de datos.\"  \n",
    "    \n",
    "    else:\n",
    "         # Extraigo del df_games todos aquellos juegos catalogados dentro del género dado:\n",
    "        df_filtrado = df_games[df_games[genero] == 1]\n",
    "\n",
    "        # Se seleccionan las columnas necesarias de los dataframes df_filtrado y df_items:\n",
    "        df_playtimegenre = pd.merge(df_filtrado[['Game_id','Release_year']], df_items[['Game_id',\"Playtime\"]], \n",
    "                            on=\"Game_id\", how = 'inner')\n",
    "        \n",
    "        # Reviso que el resultado del merge no sea un dataframe vacío.\n",
    "        # Esta verificación extra la añadí al revisar por qué se presentaba un error cuando el género era Accounting.\n",
    "        # La explicación más detallada de este error se encuentra abajo de este bloque de código.\n",
    "        if df_playtimegenre.shape[0] == 0:\n",
    "            return f\"No hay información de horas de juego para el género {genero}.\" \n",
    "        else:\n",
    "            # Se agrupa el df por Release_year sumando la cantidad de horas jugadas y buscando el año con el valor máximo:\n",
    "            horas_por_anio = df_playtimegenre.groupby(\"Release_year\")[\"Playtime\"].sum()\n",
    "            anios_ordenados = horas_por_anio.sort_values(ascending=False).head(1).index.to_list()\n",
    "            anio_max=anios_ordenados[0]\n",
    "    \n",
    "            # Se elimina la basura para liberar uso de memoria:\n",
    "            gc.collect()\n",
    "\n",
    "            # Se crea la clave que voy a usar en el diccionario de resultado:\n",
    "            clave = f'Año de lanzamiento con más horas jugadas para Género {genero}: '\n",
    "\n",
    "    return {clave:anio_max}"
   ]
  },
  {
   "cell_type": "code",
   "execution_count": 103,
   "metadata": {},
   "outputs": [
    {
     "data": {
      "text/plain": [
       "{'Año de lanzamiento con más horas jugadas para Género Indie: ': 2006}"
      ]
     },
     "execution_count": 103,
     "metadata": {},
     "output_type": "execute_result"
    }
   ],
   "source": [
    "PlayTimeGenre('Indie')"
   ]
  },
  {
   "cell_type": "markdown",
   "metadata": {},
   "source": [
    "EXPLICACIÓN DEL ERROR: Hice la prueba con todos los géneros y con el único que me daba error era con Accounting. Realicé algunas verificacions para saber por qué sucedía esto."
   ]
  },
  {
   "cell_type": "code",
   "execution_count": null,
   "metadata": {},
   "outputs": [],
   "source": [
    "#primero revisé cuántos juegos están en esta categoría\n",
    "accounting= df_games[df_games['Accounting']==1]\n",
    "accounting"
   ]
  },
  {
   "cell_type": "markdown",
   "metadata": {},
   "source": [
    "Sospechaba que, aunque se registran 7 juegos que corresponde al género Accounting, ningún usuario los había comprado. Al verificar si los Game_id de estos juegos estaban presentes en el dataset de User Items, confirmé mi  teoría. Es por eso que daba error la búsqueda, porque al hacer merge entre df_games filtrado para este género y df_items, el resultado es un dataframe vacío. Esto me lleva a prevenir el error añadiendo una verificación más."
   ]
  },
  {
   "cell_type": "markdown",
   "metadata": {},
   "source": [
    "### UserForGenre()"
   ]
  },
  {
   "cell_type": "markdown",
   "metadata": {},
   "source": [
    "Debe devolver el usuario que acumula más horas jugadas para el género dado y una lista de la acumulación de horas jugadas por año.\n",
    "\n",
    "Ejemplo de retorno: {\"Usuario con más horas jugadas para Género X\" : us213ndjss09sdf, \"Horas jugadas\":[{Año: 2013, Horas: 203}, {Año: 2012, Horas: 100}, {Año: 2011, Horas: 23}]}"
   ]
  },
  {
   "cell_type": "code",
   "execution_count": 59,
   "metadata": {},
   "outputs": [],
   "source": [
    "def UserForGenre( genero : str ):\n",
    "    # Se imprime mensaje de error: \n",
    "    if genero not in df_games.columns: \n",
    "        return f\"ERROR: El género {genero} no existe en la base de datos.\"  \n",
    "    \n",
    "    else:\n",
    "        # Extraigo del df_games todos aquellos juegos catalogados dentro del género dado:\n",
    "        df_filtrado = df_games[df_games[genero] == 1]\n",
    "\n",
    "        # Se seleccionan las columnas necesarias de los dataframes df_filtrado y df_items:\n",
    "        df_usergenre = pd.merge(df_filtrado[['Game_id','Release_year']], df_items[['Game_id',\"Playtime\", 'User_id']], \n",
    "                            on=\"Game_id\", how = 'inner')\n",
    "        \n",
    "        # Reviso que el resultado del merge no sea un dataframe vacío\n",
    "        if df_usergenre.shape[0] == 0:\n",
    "            return f\"No hay información de usuarios con horas de juego para el género {genero}.\" \n",
    "        else:       \n",
    "            # Se agrupa el df por User_id sumando la cantidad de horas jugadas y buscando el usuario con el valor máximo:\n",
    "            usuario_max = df_usergenre.groupby(\"User_id\")[\"Playtime\"].sum().idxmax()\n",
    "\n",
    "            #Extraigo la información correspondiente a ese usuario que tiene el valor máximo de horas jugadas:\n",
    "            df_usergenre = df_usergenre[df_usergenre[\"User_id\"] == usuario_max] \n",
    "\n",
    "            # Se agrupa la cantidad de horas jugadas por año por el usuario:\n",
    "            horas_anio = df_usergenre.groupby(\"Release_year\")[\"Playtime\"].sum()\n",
    "\n",
    "            # Se convierte este resultado a un diccionario:\n",
    "            horas_dicc = horas_anio.to_dict() \n",
    "\n",
    "            # Se crea un diccionario vacío que almacenará los valores con el formato con que los voy a entregar:\n",
    "            horas_dicc1 = {}\n",
    "                \n",
    "            # Se itera sobre cada uno de los pares clave-valor del diccionario original:\n",
    "            for clave, valor in horas_dicc.items(): \n",
    "                formato_clave = f'Año: {int(clave)}'           # se da formato al año\n",
    "                formato_valor = f'Horas: {int(valor)}'       # se da formato a la cantidad de horas jugadas\n",
    "                horas_dicc1[formato_clave] = formato_valor      # se asignan los valores al nuevo diccionario creado\n",
    "\n",
    "            # Se crea la clave que voy a usar en el diccionario de resultado:\n",
    "            clave_dicc = f'Usuario con más horas jugadas para Género {genero}'\n",
    "        \n",
    "            # Se elimina la basura para liberar uso de memoria:\n",
    "            gc.collect()\n",
    "        \n",
    "            # Se retornan los valores en un diccionario: \n",
    "            return {clave_dicc : usuario_max, \"Horas jugadas\": horas_dicc1}"
   ]
  },
  {
   "cell_type": "code",
   "execution_count": 60,
   "metadata": {},
   "outputs": [
    {
     "data": {
      "text/plain": [
       "'No hay información de usuarios con horas de juego para el género Accounting.'"
      ]
     },
     "execution_count": 60,
     "metadata": {},
     "output_type": "execute_result"
    }
   ],
   "source": [
    "UserForGenre('Accounting')"
   ]
  },
  {
   "cell_type": "markdown",
   "metadata": {},
   "source": [
    "### UsersRecommend()"
   ]
  },
  {
   "cell_type": "markdown",
   "metadata": {},
   "source": [
    "Devuelve el top 3 de juegos MÁS recomendados por usuarios para el año dado. (reviews.recommend = True y comentarios positivos/neutrales)\n",
    "\n",
    "Ejemplo de retorno: [{\"Puesto 1\" : X}, {\"Puesto 2\" : Y},{\"Puesto 3\" : Z}]"
   ]
  },
  {
   "cell_type": "code",
   "execution_count": 115,
   "metadata": {},
   "outputs": [],
   "source": [
    "def UsersRecommend( anio : int ):\n",
    "    yearmin=df_reviews['Posted_year'].min()\n",
    "    yearmax=df_reviews['Posted_year'].max()\n",
    "    if anio < yearmin or anio > yearmax: \n",
    "        # Se imprime mensaje de error: \n",
    "        return f\"ERROR: No hay recomendaciones de usuarios para el año {anio}\"  \n",
    "    \n",
    "    else:\n",
    "        # Extraigo del df_reviews todos aquellos registros que corresponden al año de publicacion dado:\n",
    "        df_filtrado = df_reviews[df_reviews['Posted_year'] == anio]\n",
    "\n",
    "        # Creo una nueva columna que combina Recommend y Sentiment analysis multiplicándolas, con eso si\n",
    "        # el valor de alguna de las dos es 0 no será tenida en cuenta luego en la suma de las recomendaciones\n",
    "        df_filtrado['Combinada'] = df_filtrado['Recommend']*df_filtrado['Sentiment_analysis']\n",
    "\n",
    "        # Hago merge con df_games seleccionando las columnas que necesito:\n",
    "        df_usersrecommend = pd.merge(df_filtrado[['Game_id', 'Posted_year','Combinada']], \n",
    "                                     df_games[['Game_id', 'Name']], on = \"Game_id\", how = 'inner')\n",
    "\n",
    "        # Reviso que el resultado del merge no sea un dataframe vacío\n",
    "        if df_usersrecommend.shape[0] == 0:\n",
    "            return f\"ERROR: No hay recomendaciones ni reseñas positivas de usuarios para el año {anio}\" \n",
    "        else: \n",
    "\n",
    "            # Agrupo por nombre del juego y sumo los valores de la columna combinada:\n",
    "            df_usersrecommend = df_usersrecommend.groupby('Name')['Combinada'].sum()\n",
    "\n",
    "            # Se ordenan las recomendaciones por orden descendente, se seleccionan las primeras 3:\n",
    "            mas_recomendados = df_usersrecommend.sort_values(ascending=False).head(3).index.to_list()\n",
    "\n",
    "            # Elaboro el diccionario de salida\n",
    "            dicc = {}\n",
    "            if len(mas_recomendados)>=3:\n",
    "                dicc['Puesto 1'] = mas_recomendados[0]\n",
    "                dicc['Puesto 2'] = mas_recomendados[1]\n",
    "                dicc['Puesto 3'] = mas_recomendados[2]\n",
    "            elif len(mas_recomendados)==2:\n",
    "                dicc['Puesto 1'] = mas_recomendados[0]\n",
    "                dicc['Puesto 2'] = mas_recomendados[1]\n",
    "                dicc['Puesto 3'] = 'Sin datos'\n",
    "            elif len(mas_recomendados)==1:\n",
    "                dicc['Puesto 1'] = mas_recomendados[0]\n",
    "                dicc['Puesto 2'] = 'Sin datos'\n",
    "                dicc['Puesto 3'] = 'Sin datos'\n",
    "\n",
    "        # Se elimina la basura para liberar uso de memoria:\n",
    "        gc.collect()\n",
    "\n",
    "    return dicc"
   ]
  },
  {
   "cell_type": "code",
   "execution_count": 116,
   "metadata": {},
   "outputs": [
    {
     "data": {
      "text/plain": [
       "{'Puesto 1': 'X-COM: UFO Defense',\n",
       " 'Puesto 2': 'Sin datos',\n",
       " 'Puesto 3': 'Sin datos'}"
      ]
     },
     "execution_count": 116,
     "metadata": {},
     "output_type": "execute_result"
    }
   ],
   "source": [
    "UsersRecommend(1993)"
   ]
  },
  {
   "cell_type": "markdown",
   "metadata": {},
   "source": [
    "### UsersWorstDeveloper()"
   ]
  },
  {
   "cell_type": "markdown",
   "metadata": {},
   "source": [
    "Devuelve el top 3 de desarrolladoras con juegos MENOS recomendados por usuarios para el año dado. (reviews.recommend = False y comentarios negativos)\n",
    "\n",
    "Ejemplo de retorno: [{\"Puesto 1\" : X}, {\"Puesto 2\" : Y},{\"Puesto 3\" : Z}]"
   ]
  },
  {
   "cell_type": "markdown",
   "metadata": {},
   "source": [
    "Para muchos de los años no existen suficientes registros que cumplan las condiciones solicitadas: reviews.recommend = False *y* comentarios negativos. Por eso he decidido tomar el mismo dataframe que elaboré en el punto pasado, con el mismo método para calcular la suma de recomendaciones, y extraer de este los Developers que se encuentren en los últimos tres lugares"
   ]
  },
  {
   "cell_type": "code",
   "execution_count": 117,
   "metadata": {},
   "outputs": [],
   "source": [
    "def UsersWorstDeveloper( anio : int ):\n",
    "    yearmin=df_reviews['Posted_year'].min()\n",
    "    yearmax=df_reviews['Posted_year'].max()\n",
    "    if anio < yearmin or anio > yearmax: \n",
    "        # Se imprime mensaje de error: \n",
    "        return f\"ERROR: No hay reseñas de usuarios para el año {anio}\"  \n",
    "    \n",
    "    else:\n",
    "        # Extraigo del df_reviews todos aquellos registros que corresponden al año de publicacion dado:\n",
    "        df_filtrado = df_reviews[df_reviews['Posted_year'] == anio]\n",
    "\n",
    "        # Creo una nueva columna que combina Recommend y Sentiment analysis multiplicándolas\n",
    "        df_filtrado['Combinada'] = df_filtrado['Recommend']*df_filtrado['Sentiment_analysis']\n",
    "\n",
    "        # Selecciono únicamente los registros con malos reviews, es decir los que tienen 0 en Combinada:\n",
    "        df_negativos = df_filtrado[df_filtrado['Combinada'] == 0]\n",
    "\n",
    "        # Hago merge con df_games seleccionando las columnas que necesito:\n",
    "        df_usersrecommend = pd.merge(df_negativos[['Game_id', 'Posted_year','Combinada']], \n",
    "                                     df_games[['Game_id', 'Developer']], on = \"Game_id\", how = 'inner')\n",
    "\n",
    "        # Agrupo por id y sumo los valores de la columna combinada\n",
    "        df_usersrecommend = df_usersrecommend.groupby('Developer')['Combinada'].count()\n",
    "\n",
    "        # Se ordena el conteo de malas reseñas por orden descendente, se seleccionan las primeras 3:\n",
    "        menos_recomendados = df_usersrecommend.sort_values(ascending=False).head(3).index.to_list()\n",
    "\n",
    "        # Elaboro el diccionario de salida:\n",
    "        dicc = {}\n",
    "        if len(menos_recomendados)>=3:\n",
    "            dicc['Puesto 1'] = menos_recomendados[0]\n",
    "            dicc['Puesto 2'] = menos_recomendados[1]\n",
    "            dicc['Puesto 3'] = menos_recomendados[2]\n",
    "        elif len(menos_recomendados)==2:\n",
    "            dicc['Puesto 1'] = menos_recomendados[0]\n",
    "            dicc['Puesto 2'] = menos_recomendados[1]\n",
    "            dicc['Puesto 3'] = 'Sin datos'\n",
    "        elif len(menos_recomendados)==1:\n",
    "            dicc['Puesto 1'] = menos_recomendados[0]\n",
    "            dicc['Puesto 2'] = 'Sin datos'\n",
    "            dicc['Puesto 3'] = 'Sin datos'\n",
    "        else:\n",
    "            return f\"ERROR: No hay recomendaciones negativas de usuarios para el año {anio}\"\n",
    "\n",
    "        # Se elimina la basura para liberar uso de memoria:\n",
    "        gc.collect()\n",
    "\n",
    "    return dicc"
   ]
  },
  {
   "cell_type": "code",
   "execution_count": 123,
   "metadata": {},
   "outputs": [
    {
     "data": {
      "text/plain": [
       "{'Puesto 1': 'Running With Scissors',\n",
       " 'Puesto 2': 'CCP',\n",
       " 'Puesto 3': 'Instant Kingdom'}"
      ]
     },
     "execution_count": 123,
     "metadata": {},
     "output_type": "execute_result"
    }
   ],
   "source": [
    "UsersWorstDeveloper(2003)"
   ]
  },
  {
   "cell_type": "markdown",
   "metadata": {},
   "source": [
    "### sentiment_analysis()\n"
   ]
  },
  {
   "cell_type": "markdown",
   "metadata": {},
   "source": [
    "Según la empresa desarrolladora, se devuelve un diccionario con el nombre de la desarrolladora como llave y una lista con la cantidad total de registros de reseñas de usuarios que se encuentren categorizados con un análisis de sentimiento como valor.\n",
    "\n",
    "Ejemplo de retorno: {'Valve' : [Negative = 182, Neutral = 120, Positive = 278]}"
   ]
  },
  {
   "cell_type": "code",
   "execution_count": 52,
   "metadata": {},
   "outputs": [],
   "source": [
    "def sentiment_analysis( desarrollador: str ):\n",
    "    if desarrollador not in df_games['Developer'].values:\n",
    "        # Mensaje de error si no encuentra el desarrollador dado:\n",
    "        return f\"ERROR: El desarrollador {desarrollador} no existe en la base de datos.\"\n",
    "    else:\n",
    "        #Extraigo del df_games los registros correspondientes al desarrollador:\n",
    "        df_filtrado = df_games[df_games['Developer']==desarrollador]\n",
    "\n",
    "        # Hago merge con df_reviews seleccionando las columnas que necesito:\n",
    "        df_sentiment = pd.merge(df_filtrado[['Game_id', 'Developer']], df_reviews[['Game_id', 'Sentiment_analysis']],\n",
    "                                                on = \"Game_id\", how = 'inner')\n",
    "        \n",
    "        # Extraigo los reviews positivos, es decir con valor 2 en Sentiment analysis y los cuento\n",
    "        positivos = df_sentiment[df_sentiment['Sentiment_analysis']==2].shape[0]\n",
    "\n",
    "        # Extraigo los reviews neutros, es decir con valor 1 en Sentiment analysis y los cuento\n",
    "        neutros = df_sentiment[df_sentiment['Sentiment_analysis']==1].shape[0]\n",
    "\n",
    "        # Extraigo los reviews negativos, es decir con valor 0 en Sentiment analysis y los cuento\n",
    "        negativos = df_sentiment[df_sentiment['Sentiment_analysis']==0].shape[0]\n",
    "\n",
    "        # Armo el string de salida:\n",
    "        resultados = f\"[Negative = {negativos}, Neutral = {neutros}, Positive = {positivos}]\"\n",
    "\n",
    "        return {desarrollador:resultados}"
   ]
  },
  {
   "cell_type": "code",
   "execution_count": 57,
   "metadata": {},
   "outputs": [
    {
     "data": {
      "text/plain": [
       "{'Pyro Studios': '[Negative = 3, Neutral = 0, Positive = 4]'}"
      ]
     },
     "execution_count": 57,
     "metadata": {},
     "output_type": "execute_result"
    }
   ],
   "source": [
    "sentiment_analysis('Pyro Studios')"
   ]
  }
 ],
 "metadata": {
  "kernelspec": {
   "display_name": "Python 3",
   "language": "python",
   "name": "python3"
  },
  "language_info": {
   "codemirror_mode": {
    "name": "ipython",
    "version": 3
   },
   "file_extension": ".py",
   "mimetype": "text/x-python",
   "name": "python",
   "nbconvert_exporter": "python",
   "pygments_lexer": "ipython3",
   "version": "3.11.4"
  }
 },
 "nbformat": 4,
 "nbformat_minor": 2
}

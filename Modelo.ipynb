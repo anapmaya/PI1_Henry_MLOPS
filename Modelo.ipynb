{
 "cells": [
  {
   "cell_type": "markdown",
   "metadata": {},
   "source": [
    "# Modelo de Aprendizaje"
   ]
  },
  {
   "cell_type": "markdown",
   "metadata": {},
   "source": [
    "El modelo de aprendizaje elegido, será un sistema de recomendación item-item, en el cual al ingresar el id de producto, deberíamos recibir una lista con 5 juegos recomendados similares al ingresado.\n",
    "\n",
    "Se nos hizo la recomendación de aplicar la similitud del coseno, entonces voy a rescatar del dataset original la columna que tenía los reviews de los usuarios. Esta columna fue eliminada del dataset después de utilizarla para calcular el Sentiment Analysis.\n",
    "\n",
    "Haré entonces un proceso similar al realizado en el ETL de el archivo users:reviews.json, pero conservando la columna de los reviews"
   ]
  },
  {
   "cell_type": "code",
   "execution_count": 23,
   "metadata": {},
   "outputs": [],
   "source": [
    "import pandas as pd\n",
    "import ast\n",
    "import warnings\n",
    "warnings.filterwarnings('ignore')"
   ]
  },
  {
   "cell_type": "markdown",
   "metadata": {},
   "source": [
    "A continuación se crea una función que ayudará con la carga de la información en DataFrames de Pandas"
   ]
  },
  {
   "cell_type": "code",
   "execution_count": 5,
   "metadata": {},
   "outputs": [],
   "source": [
    "def cargar_df(ruta, variable_anidada):\n",
    "    '''Función que recibe una ruta de acceso a un archivo json anidado y carga la información en un\n",
    "    DataFrame de Pandas'''\n",
    "    rows = []\n",
    "    with open(ruta, 'r', encoding='utf-8') as file:                         # se lee el archivo iterando línea por línea y agregando a lista vacia\n",
    "        for line in file:\n",
    "            rows.append(ast.literal_eval(line)) \n",
    "    \n",
    "    df = pd.DataFrame(rows)                                                 # se carga la info en un df de Pandas            \n",
    "    df = df.explode(variable_anidada).reset_index()                         # se separan en filas los datos anidados y se resetea index\n",
    "    df = df.drop(columns=\"index\")                                           # se elimina el indice original\n",
    "    df = pd.concat([df, pd.json_normalize(df[variable_anidada])], axis=1)   # se realiza la apertura en columnas de la informacion anidada\n",
    "    df = df.drop(columns=variable_anidada)                                  # se elimina la columna anidada original\n",
    "\n",
    "    return df"
   ]
  },
  {
   "cell_type": "code",
   "execution_count": 24,
   "metadata": {},
   "outputs": [
    {
     "data": {
      "text/plain": [
       "(59333, 9)"
      ]
     },
     "execution_count": 24,
     "metadata": {},
     "output_type": "execute_result"
    }
   ],
   "source": [
    "df_reviews = cargar_df(r'Dataset/user_reviews.json', \"reviews\")\n",
    "df_reviews.shape"
   ]
  },
  {
   "cell_type": "code",
   "execution_count": 25,
   "metadata": {},
   "outputs": [],
   "source": [
    "# Elimino valores nulos\n",
    "df_reviews = df_reviews.dropna().reset_index(drop=True)\n",
    "\n",
    "#Elimino valores duplicados\n",
    "df_reviews = df_reviews.drop_duplicates()\n",
    "\n",
    "#Como sólo me interesan las columnas item_id y review, elimino las demás\n",
    "df_reviews = df_reviews.drop(columns=['user_id', 'user_url', 'funny', 'posted', \n",
    "                                     'last_edited', 'helpful', 'recommend'])"
   ]
  },
  {
   "cell_type": "code",
   "execution_count": 26,
   "metadata": {},
   "outputs": [],
   "source": [
    "#Modifico tipos de datos\n",
    "df_reviews['review']=df_reviews['review'].astype(str)\n",
    "df_reviews['item_id']=df_reviews['item_id'].astype(float)"
   ]
  },
  {
   "cell_type": "markdown",
   "metadata": {},
   "source": [
    "Ahora necesito los nombres de los juegos, entonces voy a cargar el archivo steam games (en este caso sí usaré el archivo resultante del ETL), para extraer de este los nombres de los juegos"
   ]
  },
  {
   "cell_type": "code",
   "execution_count": 27,
   "metadata": {},
   "outputs": [],
   "source": [
    "# Leo el archivo steam_games.parquet y lo guardo en un dataframe df_games\n",
    "df_games = pd.read_parquet('steam_games.parquet')"
   ]
  },
  {
   "cell_type": "code",
   "execution_count": 28,
   "metadata": {},
   "outputs": [],
   "source": [
    "#Tomo sólo las columnas que necesito\n",
    "df_games_modelo = df_games[['Name', 'Game_id']]\n",
    "\n",
    "#cambio los nombres de las columnas\n",
    "df_games_modelo.columns = ['item_name', 'item_id']\n",
    "\n",
    "#Aseguro los tipos de datos\n",
    "df_games_modelo['item_name']=df_games_modelo['item_name'].astype(str)\n",
    "df_games_modelo['item_id']=df_games_modelo['item_id'].astype(float)"
   ]
  },
  {
   "cell_type": "code",
   "execution_count": 36,
   "metadata": {},
   "outputs": [
    {
     "name": "stdout",
     "output_type": "stream",
     "text": [
      "<class 'pandas.core.frame.DataFrame'>\n",
      "RangeIndex: 48949 entries, 0 to 48948\n",
      "Data columns (total 3 columns):\n",
      " #   Column     Non-Null Count  Dtype  \n",
      "---  ------     --------------  -----  \n",
      " 0   item_id    48949 non-null  float64\n",
      " 1   review     48949 non-null  object \n",
      " 2   item_name  48949 non-null  object \n",
      "dtypes: float64(1), object(2)\n",
      "memory usage: 1.1+ MB\n"
     ]
    }
   ],
   "source": [
    "#Combino ambos dataframes\n",
    "df_modelo = pd.merge(df_reviews, df_games_modelo, on=\"item_id\", how = 'inner')\n",
    "df_modelo.info()"
   ]
  },
  {
   "cell_type": "code",
   "execution_count": 43,
   "metadata": {},
   "outputs": [
    {
     "data": {
      "text/html": [
       "<div>\n",
       "<style scoped>\n",
       "    .dataframe tbody tr th:only-of-type {\n",
       "        vertical-align: middle;\n",
       "    }\n",
       "\n",
       "    .dataframe tbody tr th {\n",
       "        vertical-align: top;\n",
       "    }\n",
       "\n",
       "    .dataframe thead th {\n",
       "        text-align: right;\n",
       "    }\n",
       "</style>\n",
       "<table border=\"1\" class=\"dataframe\">\n",
       "  <thead>\n",
       "    <tr style=\"text-align: right;\">\n",
       "      <th></th>\n",
       "      <th>item_id</th>\n",
       "      <th>review</th>\n",
       "      <th>item_name</th>\n",
       "    </tr>\n",
       "  </thead>\n",
       "  <tbody>\n",
       "    <tr>\n",
       "      <th>0</th>\n",
       "      <td>1250.0</td>\n",
       "      <td>Simple yet with great replayability. In my opi...</td>\n",
       "      <td>Killing Floor</td>\n",
       "    </tr>\n",
       "    <tr>\n",
       "      <th>1</th>\n",
       "      <td>1250.0</td>\n",
       "      <td>Amazing, Non-stop action of blowing stuff to b...</td>\n",
       "      <td>Killing Floor</td>\n",
       "    </tr>\n",
       "    <tr>\n",
       "      <th>2</th>\n",
       "      <td>1250.0</td>\n",
       "      <td>Compared to Left 4 Dead 2, this game REALLY gi...</td>\n",
       "      <td>Killing Floor</td>\n",
       "    </tr>\n",
       "    <tr>\n",
       "      <th>3</th>\n",
       "      <td>1250.0</td>\n",
       "      <td>Jogo ♥♥♥♥.</td>\n",
       "      <td>Killing Floor</td>\n",
       "    </tr>\n",
       "    <tr>\n",
       "      <th>4</th>\n",
       "      <td>1250.0</td>\n",
       "      <td>cara nas imagens esse jogo da pouco de medo ma...</td>\n",
       "      <td>Killing Floor</td>\n",
       "    </tr>\n",
       "    <tr>\n",
       "      <th>...</th>\n",
       "      <td>...</td>\n",
       "      <td>...</td>\n",
       "      <td>...</td>\n",
       "    </tr>\n",
       "    <tr>\n",
       "      <th>48944</th>\n",
       "      <td>307130.0</td>\n",
       "      <td>Asteria is a fast paced indie platformer, wrap...</td>\n",
       "      <td>Asteria</td>\n",
       "    </tr>\n",
       "    <tr>\n",
       "      <th>48945</th>\n",
       "      <td>209120.0</td>\n",
       "      <td>Great game, awkward to get running in windows 10</td>\n",
       "      <td>Street Fighter X Tekken</td>\n",
       "    </tr>\n",
       "    <tr>\n",
       "      <th>48946</th>\n",
       "      <td>220090.0</td>\n",
       "      <td>GET THIS GAME AND CHAPTER TWO!!!!!!!!!!!!!!!!!...</td>\n",
       "      <td>The Journey Down: Chapter One</td>\n",
       "    </tr>\n",
       "    <tr>\n",
       "      <th>48947</th>\n",
       "      <td>262850.0</td>\n",
       "      <td>THIS GAME!!!!!!!!!!!!!!!!!! WOOOOOOOOOOOOOOOOO...</td>\n",
       "      <td>The Journey Down: Chapter Two</td>\n",
       "    </tr>\n",
       "    <tr>\n",
       "      <th>48948</th>\n",
       "      <td>431510.0</td>\n",
       "      <td>Highly recommended! The storyline for shou is ...</td>\n",
       "      <td>Mystic Destinies: Serendipity of Aeons</td>\n",
       "    </tr>\n",
       "  </tbody>\n",
       "</table>\n",
       "<p>48949 rows × 3 columns</p>\n",
       "</div>"
      ],
      "text/plain": [
       "        item_id                                             review  \\\n",
       "0        1250.0  Simple yet with great replayability. In my opi...   \n",
       "1        1250.0  Amazing, Non-stop action of blowing stuff to b...   \n",
       "2        1250.0  Compared to Left 4 Dead 2, this game REALLY gi...   \n",
       "3        1250.0                                         Jogo ♥♥♥♥.   \n",
       "4        1250.0  cara nas imagens esse jogo da pouco de medo ma...   \n",
       "...         ...                                                ...   \n",
       "48944  307130.0  Asteria is a fast paced indie platformer, wrap...   \n",
       "48945  209120.0   Great game, awkward to get running in windows 10   \n",
       "48946  220090.0  GET THIS GAME AND CHAPTER TWO!!!!!!!!!!!!!!!!!...   \n",
       "48947  262850.0  THIS GAME!!!!!!!!!!!!!!!!!! WOOOOOOOOOOOOOOOOO...   \n",
       "48948  431510.0  Highly recommended! The storyline for shou is ...   \n",
       "\n",
       "                                    item_name  \n",
       "0                               Killing Floor  \n",
       "1                               Killing Floor  \n",
       "2                               Killing Floor  \n",
       "3                               Killing Floor  \n",
       "4                               Killing Floor  \n",
       "...                                       ...  \n",
       "48944                                 Asteria  \n",
       "48945                 Street Fighter X Tekken  \n",
       "48946           The Journey Down: Chapter One  \n",
       "48947           The Journey Down: Chapter Two  \n",
       "48948  Mystic Destinies: Serendipity of Aeons  \n",
       "\n",
       "[48949 rows x 3 columns]"
      ]
     },
     "execution_count": 43,
     "metadata": {},
     "output_type": "execute_result"
    }
   ],
   "source": [
    "#Como sólo necesito el nombre del juego, puedo eliminar la columna item_id\n",
    "#df_modelo = df_modelo.drop(columns = 'item_id')\n",
    "df_modelo"
   ]
  },
  {
   "cell_type": "code",
   "execution_count": 40,
   "metadata": {},
   "outputs": [],
   "source": [
    "# Ahora que ya tengo listo el dataset para el modelo lo guardo en un archivo parquet\n",
    "df_modelo.to_parquet('dataset_ml.parquet', engine=\"pyarrow\")"
   ]
  },
  {
   "cell_type": "markdown",
   "metadata": {},
   "source": [
    "A continuación desarrollaré el código para el modelo de recomendación. Este código será probado en este notebook, pero deberá ser insertado en el archivo que se suba a render para el deploy, por eso"
   ]
  },
  {
   "cell_type": "code",
   "execution_count": 111,
   "metadata": {},
   "outputs": [],
   "source": [
    "import sklearn\n",
    "from sklearn.feature_extraction.text import TfidfVectorizer\n",
    "from sklearn.metrics.pairwise import linear_kernel\n",
    "from sklearn.metrics.pairwise import cosine_similarity\n",
    "\n",
    "df_modelo = pd.read_parquet('dataset_ml.parquet')"
   ]
  },
  {
   "cell_type": "code",
   "execution_count": 114,
   "metadata": {},
   "outputs": [],
   "source": [
    "def recomendacion_juego( id : float): \n",
    "    \"\"\" Ingresando el id de producto, deberíamos recibir una lista con 5 juegos \n",
    "    recomendados similares al ingresado. \"\"\"\n",
    "\n",
    "    #tomo un dataframe auxiliar sólo con las columnas reviews y item_id\n",
    "    #df = df_modelo.drop(columns = 'item_name')\n",
    "\n",
    "    #agrupo los reviews por juegos\n",
    "    df_modelo[\"review\"] = df_modelo[\"review\"].fillna(\"\")\n",
    "    grouped = df.groupby('item_id').agg(lambda x: ' '.join(x)).reset_index()\n",
    "    \n",
    "    #Vectorización de términos mediante tf-idf, usando stop words en inglés\n",
    "    tfidf_vectorizer = TfidfVectorizer(stop_words = 'english')\n",
    "\n",
    "    #Aplica el vectorizador tf-idf a la columna 'review' del dataframe agrupado\n",
    "    tfidf_matrix = tfidf_vectorizer.fit_transform(grouped['review'])\n",
    "\n",
    "    #Calcula la similitud del coseno entre las reseñas utilizando linear_kernel\n",
    "    cosine_sim = linear_kernel(tfidf_matrix, tfidf_matrix)\n",
    "\n",
    "    #busca el indice del item de entrada de la función\n",
    "    idx = grouped.index[grouped['item_id']== id].tolist()[0]\n",
    "\n",
    "    #Se crea una lista de tuples, donde cada tuple contiene el índice del artículo \n",
    "    #y su puntaje de similitud de coseno con el artículo específico.\n",
    "    sim_scores = list(enumerate(cosine_sim[idx]))\n",
    "\n",
    "    # Se ordena descendente, de manera que las reseñas más similares aparezcan primero.\n",
    "    sim_scores = sorted(sim_scores, key = lambda x: x[1], reverse = True)\n",
    "\n",
    "    #selecciono las 5 primeras\n",
    "    sim_scores = sim_scores[1:6]\n",
    "    item_indices = [i[0] for i in sim_scores]\n",
    "    \n",
    "    #obtiene la lista de item_id correspondiente a los índices\n",
    "    salida_ids = grouped['item_id'].iloc[item_indices].tolist()\n",
    "\n",
    "    #obtiene la lista de nombres\n",
    "    salida_nombres = df_modelo.loc[df['item_id'].isin(salida_ids),'item_name'].unique().tolist()\n",
    "    \n",
    "    return salida_nombres"
   ]
  },
  {
   "cell_type": "code",
   "execution_count": 115,
   "metadata": {},
   "outputs": [
    {
     "data": {
      "text/plain": [
       "['Alien Swarm',\n",
       " 'Wyv and Keep: The Temple of the Lost Idol',\n",
       " 'Massive',\n",
       " 'NyxQuest: Kindred Spirits',\n",
       " 'Lost Planet® 2']"
      ]
     },
     "execution_count": 115,
     "metadata": {},
     "output_type": "execute_result"
    }
   ],
   "source": [
    "recomendacion_juego (307130)"
   ]
  }
 ],
 "metadata": {
  "kernelspec": {
   "display_name": "Python 3",
   "language": "python",
   "name": "python3"
  },
  "language_info": {
   "codemirror_mode": {
    "name": "ipython",
    "version": 3
   },
   "file_extension": ".py",
   "mimetype": "text/x-python",
   "name": "python",
   "nbconvert_exporter": "python",
   "pygments_lexer": "ipython3",
   "version": "3.11.4"
  }
 },
 "nbformat": 4,
 "nbformat_minor": 2
}
